{
  "nbformat": 4,
  "nbformat_minor": 0,
  "metadata": {
    "colab": {
      "name": "NLP Modeling : Feature Vectorization for ML.ipynb",
      "provenance": [],
      "collapsed_sections": [],
      "toc_visible": true,
      "authorship_tag": "ABX9TyNxIge7hmEha46DuLUQk8QG"
    },
    "kernelspec": {
      "name": "python3",
      "display_name": "Python 3"
    },
    "accelerator": "GPU"
  },
  "cells": [
    {
      "cell_type": "markdown",
      "metadata": {
        "id": "7H6hSvYjpmyp",
        "colab_type": "text"
      },
      "source": [
        "# Setting Environment"
      ]
    },
    {
      "cell_type": "code",
      "metadata": {
        "id": "48qrusPy0KMq",
        "colab_type": "code",
        "outputId": "121b5e0a-ba69-4471-f3f2-c2fbaca3da97",
        "colab": {
          "base_uri": "https://localhost:8080/",
          "height": 122
        }
      },
      "source": [
        "from google.colab import drive \n",
        "\n",
        "drive.mount('/content/gdrive')\n",
        "\n",
        "path = './gdrive/My Drive/Colab Demo Data/'"
      ],
      "execution_count": 0,
      "outputs": [
        {
          "output_type": "stream",
          "text": [
            "Go to this URL in a browser: https://accounts.google.com/o/oauth2/auth?client_id=947318989803-6bn6qk8qdgf4n4g3pfee6491hc0brc4i.apps.googleusercontent.com&redirect_uri=urn%3aietf%3awg%3aoauth%3a2.0%3aoob&response_type=code&scope=email%20https%3a%2f%2fwww.googleapis.com%2fauth%2fdocs.test%20https%3a%2f%2fwww.googleapis.com%2fauth%2fdrive%20https%3a%2f%2fwww.googleapis.com%2fauth%2fdrive.photos.readonly%20https%3a%2f%2fwww.googleapis.com%2fauth%2fpeopleapi.readonly\n",
            "\n",
            "Enter your authorization code:\n",
            "··········\n",
            "Mounted at /content/gdrive\n"
          ],
          "name": "stdout"
        }
      ]
    },
    {
      "cell_type": "code",
      "metadata": {
        "id": "BgWFiLpx9skV",
        "colab_type": "code",
        "outputId": "df3f04ec-df38-4cc2-c627-2222d408ff78",
        "colab": {
          "base_uri": "https://localhost:8080/",
          "height": 34
        }
      },
      "source": [
        "# Check if GPU working\n",
        "\n",
        "import tensorflow as tf\n",
        "device_name = tf.test.gpu_device_name()\n",
        "if device_name != '/device:GPU:0':\n",
        "  raise SystemError('GPU device not found')\n",
        "print('Found GPU at: {}'.format(device_name))"
      ],
      "execution_count": 0,
      "outputs": [
        {
          "output_type": "stream",
          "text": [
            "Found GPU at: /device:GPU:0\n"
          ],
          "name": "stdout"
        }
      ]
    },
    {
      "cell_type": "markdown",
      "metadata": {
        "id": "tLdzq72aV_a2",
        "colab_type": "text"
      },
      "source": [
        "# Feature Vectorization for ML"
      ]
    },
    {
      "cell_type": "code",
      "metadata": {
        "id": "v4E89e1OWGl5",
        "colab_type": "code",
        "colab": {}
      },
      "source": [
        "sentiment_label = 'sent_TextBlob'  #sent_SWN, sent_TextBlob\n",
        "\n",
        "from sklearn.linear_model import LogisticRegression\n",
        "from sklearn.model_selection import train_test_split\n",
        "\n",
        "from sklearn import metrics\n",
        "import seaborn as sns"
      ],
      "execution_count": 0,
      "outputs": []
    },
    {
      "cell_type": "markdown",
      "metadata": {
        "id": "ZqeLBLiENVQP",
        "colab_type": "text"
      },
      "source": [
        "## Bag-of-Words Features"
      ]
    },
    {
      "cell_type": "code",
      "metadata": {
        "id": "3oxBNP_kNXVa",
        "colab_type": "code",
        "colab": {}
      },
      "source": [
        "from sklearn.feature_extraction.text import CountVectorizer\n",
        "bow_vectorizer = CountVectorizer(max_df=0.90, min_df=2, max_features=1000, stop_words='english')\n",
        "\n",
        "# bag-of-words feature matrix\n",
        "bow = bow_vectorizer.fit_transform(df_tweets_pub['tweets'])"
      ],
      "execution_count": 0,
      "outputs": []
    },
    {
      "cell_type": "code",
      "metadata": {
        "id": "buXw9lNsUjQy",
        "colab_type": "code",
        "colab": {}
      },
      "source": [
        "\n",
        "train_bow = bow[:160,:]\n",
        "test_bow = bow[160:,:]\n",
        "train_y = df_tweets_pub.loc[:159, sentiment_label]\n",
        "\n",
        "# splitting data into training and validation set\n",
        "xtrain_bow, xvalid_bow, ytrain, yvalid = train_test_split(train_bow, train_y, random_state=42, test_size=0.3)\n",
        "\n",
        "lreg = LogisticRegression()\n",
        "lreg.fit(xtrain_bow, ytrain) # training the model\n",
        "\n",
        "predict_p = lreg.predict_proba(xvalid_bow) # predicting on the validation set\n",
        "predict_c = lreg.predict(xvalid_bow).astype('int')  # 預測標籤結果\n"
      ],
      "execution_count": 0,
      "outputs": []
    },
    {
      "cell_type": "code",
      "metadata": {
        "id": "yjGeAOjoU716",
        "colab_type": "code",
        "outputId": "b54961ec-fa08-4455-a77e-7415acf0344d",
        "colab": {
          "base_uri": "https://localhost:8080/",
          "height": 313
        }
      },
      "source": [
        "## 製作 Confusion Matrix圖表來評估模型\n",
        "\n",
        "confusion_matrix = metrics.confusion_matrix(y_true = yvalid, y_pred = predict_c, labels=[-1,0,1])\n",
        "\n",
        "cm =pd.DataFrame(confusion_matrix , index = ['-1', '0', '1'], columns = [ '-1', '0', '1'])\n",
        "sns.heatmap(cm, annot = True)\n",
        "plt.xlabel('Predicted')\n",
        "plt.ylabel('True')\n",
        "plt.show()\n",
        "\n",
        "Accuracy = confusion_matrix.trace() / confusion_matrix.sum()\n",
        "MissClass = 1 - Accuracy\n",
        "\n",
        "print(\"Accuracy : %0.5f\" % Accuracy)\n",
        "print(\"MissClass: %0.5f\" % MissClass)\n"
      ],
      "execution_count": 0,
      "outputs": [
        {
          "output_type": "display_data",
          "data": {
            "image/png": "[encoded data removed]",
            "text/plain": [
              "<Figure size 432x288 with 2 Axes>"
            ]
          },
          "metadata": {
            "tags": []
          }
        },
        {
          "output_type": "stream",
          "text": [
            "Accuracy : 0.70833\n",
            "MissClass: 0.29167\n"
          ],
          "name": "stdout"
        }
      ]
    },
    {
      "cell_type": "markdown",
      "metadata": {
        "id": "FSJRhmVxUWw1",
        "colab_type": "text"
      },
      "source": [
        "## TF-IDF features"
      ]
    },
    {
      "cell_type": "code",
      "metadata": {
        "id": "SrHu-UkrOJU5",
        "colab_type": "code",
        "colab": {}
      },
      "source": [
        "from sklearn.feature_extraction.text import TfidfVectorizer\n",
        "tfidf_vectorizer = TfidfVectorizer(max_df=0.90, min_df=2, max_features=1000, stop_words='english')\n",
        "\n",
        "# TF-IDF feature matrix\n",
        "tfidf = tfidf_vectorizer.fit_transform(df_tweets_pub['tweets'])"
      ],
      "execution_count": 0,
      "outputs": []
    },
    {
      "cell_type": "code",
      "metadata": {
        "id": "ZMYTMWChO1HP",
        "colab_type": "code",
        "colab": {}
      },
      "source": [
        "\n",
        "train_tfidf = tfidf[:160,:]\n",
        "test_tfidf = tfidf[160:,:]\n",
        "train_y = df_tweets_pub.loc[:159, sentiment_label]\n",
        "\n",
        "# splitting data into training and validation set\n",
        "xtrain_tfidf, xvalid_tfidf, ytrain, yvalid = train_test_split(train_tfidf, train_y, random_state=42, test_size=0.3)\n",
        "\n",
        "lreg = LogisticRegression()\n",
        "lreg.fit(xtrain_tfidf, ytrain) # training the model\n",
        "\n",
        "predict_p = lreg.predict_proba(xvalid_tfidf) # predicting on the validation set\n",
        "predict_c = lreg.predict(xvalid_tfidf).astype('int')  # 預測標籤結果\n"
      ],
      "execution_count": 0,
      "outputs": []
    },
    {
      "cell_type": "code",
      "metadata": {
        "id": "wQ5OBpA1SMxf",
        "colab_type": "code",
        "outputId": "c9f730c9-182c-4c38-ef85-1829a18c6f3c",
        "colab": {
          "base_uri": "https://localhost:8080/",
          "height": 313
        }
      },
      "source": [
        "## 製作 Confusion Matrix圖表來評估模型\n",
        "\n",
        "confusion_matrix = metrics.confusion_matrix(y_true = yvalid, y_pred = predict_c, labels=[-1,0,1])\n",
        "\n",
        "cm =pd.DataFrame(confusion_matrix , index = ['-1', '0', '1'], columns = [ '-1', '0', '1'])\n",
        "sns.heatmap(cm, annot = True)\n",
        "plt.xlabel('Predicted')\n",
        "plt.ylabel('True')\n",
        "plt.show()\n",
        "\n",
        "Accuracy = confusion_matrix.trace() / confusion_matrix.sum()\n",
        "MissClass = 1 - Accuracy\n",
        "\n",
        "print(\"Accuracy : %0.5f\" % Accuracy)\n",
        "print(\"MissClass: %0.5f\" % MissClass)\n"
      ],
      "execution_count": 0,
      "outputs": [
        {
          "output_type": "display_data",
          "data": {
            "image/png": "[encoded data removed]",
            "text/plain": [
              "<Figure size 432x288 with 2 Axes>"
            ]
          },
          "metadata": {
            "tags": []
          }
        },
        {
          "output_type": "stream",
          "text": [
            "Accuracy : 0.70833\n",
            "MissClass: 0.29167\n"
          ],
          "name": "stdout"
        }
      ]
    },
    {
      "cell_type": "markdown",
      "metadata": {
        "id": "8-EPoO51j2ky",
        "colab_type": "text"
      },
      "source": [
        "## XGBoost for TF-IDF Features"
      ]
    },
    {
      "cell_type": "code",
      "metadata": {
        "id": "x5H3kAdtj5k0",
        "colab_type": "code",
        "colab": {}
      },
      "source": [
        "import xgboost as xgb\n",
        "from xgboost import XGBClassifier\n",
        "import pickle\n",
        "from matplotlib import pyplot\n",
        "import time\n",
        "\n",
        "modelml = xgb.XGBClassifier(max_depth=16,\n",
        "                        subsample=0.9,\n",
        "                        objective='multi:softmax',\n",
        "                        num_class=3,\n",
        "                        n_estimators=500,\n",
        "                        learning_rate = 0.01)\n",
        "\n",
        "m1 = modelml.fit(xtrain_tfidf, ytrain)\n",
        "\n",
        "predict_p = modelml.predict_proba(xvalid_tfidf) # predicting on the validation set\n",
        "predict_c = modelml.predict(xvalid_tfidf).astype('int')  # 預測標籤結果\n"
      ],
      "execution_count": 0,
      "outputs": []
    },
    {
      "cell_type": "code",
      "metadata": {
        "id": "EPQxzGrlkTDc",
        "colab_type": "code",
        "outputId": "5556e249-20a3-4a26-d174-4ae7a1543793",
        "colab": {
          "base_uri": "https://localhost:8080/",
          "height": 317
        }
      },
      "source": [
        "## 製作 Confusion Matrix圖表來評估模型\n",
        "\n",
        "confusion_matrix = metrics.confusion_matrix(y_true = yvalid, y_pred = predict_c, labels=[-1,0,1])\n",
        "\n",
        "cm =pd.DataFrame(confusion_matrix , index = ['-1', '0', '1'], columns = [ '-1', '0', '1'])\n",
        "sns.heatmap(cm, annot = True)\n",
        "plt.xlabel('Predicted')\n",
        "plt.ylabel('True')\n",
        "plt.show()\n",
        "\n",
        "Accuracy = confusion_matrix.trace() / confusion_matrix.sum()\n",
        "MissClass = 1 - Accuracy\n",
        "\n",
        "print(\"Accuracy : %0.5f\" % Accuracy)\n",
        "print(\"MissClass: %0.5f\" % MissClass)\n"
      ],
      "execution_count": 0,
      "outputs": [
        {
          "output_type": "display_data",
          "data": {
            "image/png": "[encoded data removed]",
            "text/plain": [
              "<Figure size 432x288 with 2 Axes>"
            ]
          },
          "metadata": {
            "tags": []
          }
        },
        {
          "output_type": "stream",
          "text": [
            "Accuracy : 0.66667\n",
            "MissClass: 0.33333\n"
          ],
          "name": "stdout"
        }
      ]
    },
    {
      "cell_type": "markdown",
      "metadata": {
        "id": "n8xnrIJnlvYn",
        "colab_type": "text"
      },
      "source": [
        "### Save Model"
      ]
    },
    {
      "cell_type": "code",
      "metadata": {
        "id": "ND6qbYaVkuTr",
        "colab_type": "code",
        "colab": {}
      },
      "source": [
        "# 儲存模型\n",
        "from datetime import datetime\n",
        "from joblib import dump, load\n",
        "ymd = datetime.now().strftime(\"%Y%m%d%H%M\")\n",
        "AC = Accuracy.astype('str')\n",
        "\n",
        "dump(m1, path + 'm1-'+ymd+'XGB'+ AC +'.joblib')"
      ],
      "execution_count": 0,
      "outputs": []
    }
  ]
}